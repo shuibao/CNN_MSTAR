{
 "cells": [
  {
   "cell_type": "code",
   "execution_count": 1,
   "metadata": {},
   "outputs": [
    {
     "name": "stderr",
     "output_type": "stream",
     "text": [
      "Using TensorFlow backend.\n"
     ]
    }
   ],
   "source": [
    "from keras.models import Sequential\n",
    "from keras.layers import Conv2D, MaxPooling2D\n",
    "from keras.layers import Activation, Dropout, Flatten, Dense,Input,Multiply\n",
    "from keras.optimizers import SGD\n",
    "from keras.preprocessing.image import ImageDataGenerator\n",
    "from keras.applications import VGG16, ResNet50\n",
    "from keras.layers import Convolution2D, MaxPooling2D, ZeroPadding2D\n",
    "from keras.layers import Activation, Dropout, Flatten, Dense\n",
    "import numpy as np\n",
    "from keras import backend as K\n",
    "from keras.models import Model\n",
    "from keras.callbacks import EarlyStopping\n",
    "from keras.models import load_model"
   ]
  },
  {
   "cell_type": "code",
   "execution_count": 2,
   "metadata": {},
   "outputs": [],
   "source": [
    "train_data_dir = '..\\\\data\\\\train'\n",
    "validation_data_dir = '..\\\\data\\\\test'"
   ]
  },
  {
   "cell_type": "code",
   "execution_count": 3,
   "metadata": {},
   "outputs": [],
   "source": [
    "img_height, img_width=100,100\n",
    "epochs = 10\n",
    "batch_size = 16\n",
    "nb_train_samples = 2536\n",
    "nb_validation_samples = 2636"
   ]
  },
  {
   "cell_type": "code",
   "execution_count": 4,
   "metadata": {},
   "outputs": [],
   "source": [
    "train_datagen = ImageDataGenerator(\n",
    "        rescale=1./255,\n",
    "        shear_range=0.2,\n",
    "        rotation_range=10.,\n",
    "        zoom_range=0.2,\n",
    "        horizontal_flip=True)\n",
    "test_datagen = ImageDataGenerator(rescale=1./255)"
   ]
  },
  {
   "cell_type": "code",
   "execution_count": 5,
   "metadata": {},
   "outputs": [
    {
     "name": "stdout",
     "output_type": "stream",
     "text": [
      "Found 2049 images belonging to 10 classes.\n"
     ]
    }
   ],
   "source": [
    "# 图片generator\n",
    "train_generator = train_datagen.flow_from_directory(\n",
    "        train_data_dir,\n",
    "        target_size=(img_height, img_width),\n",
    "        batch_size=batch_size,\n",
    "        class_mode='categorical')"
   ]
  },
  {
   "cell_type": "code",
   "execution_count": 6,
   "metadata": {},
   "outputs": [
    {
     "name": "stdout",
     "output_type": "stream",
     "text": [
      "Found 1838 images belonging to 10 classes.\n"
     ]
    }
   ],
   "source": [
    "validation_generator = test_datagen.flow_from_directory(\n",
    "        validation_data_dir,\n",
    "        target_size=(img_height, img_width),\n",
    "        batch_size=batch_size,\n",
    "        class_mode='categorical')"
   ]
  },
  {
   "cell_type": "code",
   "execution_count": 8,
   "metadata": {},
   "outputs": [
    {
     "name": "stdout",
     "output_type": "stream",
     "text": [
      "WARNING:tensorflow:From D:\\Anaconda3\\lib\\site-packages\\tensorflow\\python\\framework\\op_def_library.py:263: colocate_with (from tensorflow.python.framework.ops) is deprecated and will be removed in a future version.\n",
      "Instructions for updating:\n",
      "Colocations handled automatically by placer.\n"
     ]
    }
   ],
   "source": [
    "inputs = Input(shape=(100,100,3))\n",
    "c1 = Conv2D(8, kernel_size=(5, 5), activation='relu')(inputs)\n",
    "c2 = Conv2D(8, kernel_size=(5, 5), activation='relu')(inputs)\n",
    "r = Multiply()([c1,c2])\n",
    "p = MaxPooling2D(pool_size=(2, 2))(r)\n",
    "x = Conv2D(16, kernel_size=(5, 5), activation='relu')(p)\n",
    "x = MaxPooling2D(pool_size=(2, 2))(x)\n",
    "x = Conv2D(32, kernel_size=(5, 5), activation='relu')(x)\n",
    "x = MaxPooling2D(pool_size=(2, 2))(x)\n",
    "x = Flatten()(x)\n",
    "x = Dense(120, activation='relu')(x)\n",
    "x = Dense(84, activation='relu')(x)\n",
    "x = Dense(10, activation='softmax')(x)"
   ]
  },
  {
   "cell_type": "code",
   "execution_count": 9,
   "metadata": {},
   "outputs": [],
   "source": [
    "model = Model(inputs=inputs,outputs = x)"
   ]
  },
  {
   "cell_type": "code",
   "execution_count": 10,
   "metadata": {},
   "outputs": [],
   "source": [
    "model.compile(loss='binary_crossentropy',\n",
    "              optimizer = SGD(lr=1e-3,momentum=0.9),#SGD(lr=1e-3,momentum=0.9)\n",
    "              metrics=['accuracy'])"
   ]
  },
  {
   "cell_type": "code",
   "execution_count": 11,
   "metadata": {},
   "outputs": [
    {
     "name": "stdout",
     "output_type": "stream",
     "text": [
      "WARNING:tensorflow:From D:\\Anaconda3\\lib\\site-packages\\tensorflow\\python\\ops\\math_ops.py:3066: to_int32 (from tensorflow.python.ops.math_ops) is deprecated and will be removed in a future version.\n",
      "Instructions for updating:\n",
      "Use tf.cast instead.\n",
      "Epoch 1/10\n",
      "634/634 [==============================] - 63s 99ms/step - loss: 0.3098 - acc: 0.9000 - val_loss: 0.2704 - val_acc: 0.9008\n",
      "Epoch 2/10\n",
      "634/634 [==============================] - 54s 85ms/step - loss: 0.2088 - acc: 0.9145 - val_loss: 0.1420 - val_acc: 0.9447\n",
      "Epoch 3/10\n",
      "634/634 [==============================] - 58s 91ms/step - loss: 0.1418 - acc: 0.9405 - val_loss: 0.0887 - val_acc: 0.9652\n",
      "Epoch 4/10\n",
      "634/634 [==============================] - 54s 85ms/step - loss: 0.1196 - acc: 0.9526 - val_loss: 0.0709 - val_acc: 0.9743\n",
      "Epoch 5/10\n",
      "634/634 [==============================] - 51s 81ms/step - loss: 0.1064 - acc: 0.9605 - val_loss: 0.0584 - val_acc: 0.9781\n",
      "Epoch 6/10\n",
      "634/634 [==============================] - 55s 87ms/step - loss: 0.0678 - acc: 0.9741 - val_loss: 0.0470 - val_acc: 0.9816\n",
      "Epoch 7/10\n",
      "634/634 [==============================] - 48s 76ms/step - loss: 0.0565 - acc: 0.9796 - val_loss: 0.0332 - val_acc: 0.9888\n",
      "Epoch 8/10\n",
      "634/634 [==============================] - 57s 90ms/step - loss: 0.0468 - acc: 0.9825 - val_loss: 0.0315 - val_acc: 0.9884\n",
      "Epoch 9/10\n",
      "634/634 [==============================] - 56s 88ms/step - loss: 0.0413 - acc: 0.9850 - val_loss: 0.0446 - val_acc: 0.9836\n",
      "Epoch 10/10\n",
      "634/634 [==============================] - 57s 90ms/step - loss: 0.0394 - acc: 0.9857 - val_loss: 0.0201 - val_acc: 0.9920\n"
     ]
    },
    {
     "data": {
      "text/plain": [
       "<keras.callbacks.History at 0x20630042898>"
      ]
     },
     "execution_count": 11,
     "metadata": {},
     "output_type": "execute_result"
    }
   ],
   "source": [
    "model.fit_generator(\n",
    "        train_generator,\n",
    "        steps_per_epoch=nb_train_samples// 4 ,\n",
    "        epochs=epochs,\n",
    "        validation_data=validation_generator,\n",
    "        validation_steps=nb_validation_samples// 4,\n",
    "        workers = 4)"
   ]
  },
  {
   "cell_type": "code",
   "execution_count": null,
   "metadata": {},
   "outputs": [
    {
     "name": "stdout",
     "output_type": "stream",
     "text": [
      "Epoch 1/10\n",
      "206/634 [========>.....................] - ETA: 29s - loss: 0.0262 - acc: 0.9904"
     ]
    }
   ],
   "source": [
    "model.fit_generator(\n",
    "        train_generator,\n",
    "        steps_per_epoch=nb_train_samples// 4 ,\n",
    "        epochs=10,\n",
    "        validation_data=validation_generator,\n",
    "        validation_steps=nb_validation_samples// 4,\n",
    "        workers = 4)"
   ]
  },
  {
   "cell_type": "code",
   "execution_count": null,
   "metadata": {},
   "outputs": [],
   "source": []
  }
 ],
 "metadata": {
  "kernelspec": {
   "display_name": "Python 3",
   "language": "python",
   "name": "python3"
  },
  "language_info": {
   "codemirror_mode": {
    "name": "ipython",
    "version": 3
   },
   "file_extension": ".py",
   "mimetype": "text/x-python",
   "name": "python",
   "nbconvert_exporter": "python",
   "pygments_lexer": "ipython3",
   "version": "3.6.2"
  }
 },
 "nbformat": 4,
 "nbformat_minor": 2
}
