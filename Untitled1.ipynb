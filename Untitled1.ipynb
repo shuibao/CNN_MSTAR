{
 "cells": [
  {
   "cell_type": "code",
   "execution_count": 10,
   "metadata": {},
   "outputs": [],
   "source": [
    "from keras.layers import Conv2D, MaxPooling2D\n",
    "from keras.layers import Activation, Dropout, Flatten, Dense,Input,Multiply\n",
    "from keras.optimizers import SGD\n",
    "from keras.preprocessing.image import ImageDataGenerator\n",
    "from keras.layers import Convolution2D, MaxPooling2D, ZeroPadding2D\n",
    "from keras.layers import Activation, Dropout, Flatten, Dense\n",
    "import numpy as np\n",
    "from keras import backend as K\n",
    "from keras.models import Model\n",
    "from keras.callbacks import EarlyStopping\n"
   ]
  },
  {
   "cell_type": "code",
   "execution_count": 11,
   "metadata": {},
   "outputs": [],
   "source": [
    "train_data_dir = '..\\\\data\\\\train'\n",
    "validation_data_dir = '..\\\\data\\\\test'"
   ]
  },
  {
   "cell_type": "code",
   "execution_count": 12,
   "metadata": {},
   "outputs": [],
   "source": [
    "img_height, img_width=100,100\n",
    "epochs = 10\n",
    "batch_size = 16\n",
    "nb_train_samples = 2536\n",
    "nb_validation_samples = 2636"
   ]
  },
  {
   "cell_type": "code",
   "execution_count": 13,
   "metadata": {},
   "outputs": [],
   "source": [
    "train_datagen = ImageDataGenerator(\n",
    "        rescale=1./255,\n",
    "        shear_range=0.2,\n",
    "        rotation_range=10.,\n",
    "        zoom_range=0.2,\n",
    "        horizontal_flip=True)\n",
    "test_datagen = ImageDataGenerator(rescale=1./255)"
   ]
  },
  {
   "cell_type": "code",
   "execution_count": 14,
   "metadata": {},
   "outputs": [
    {
     "name": "stdout",
     "output_type": "stream",
     "text": [
      "Found 2049 images belonging to 10 classes.\n"
     ]
    }
   ],
   "source": [
    "# 图片generator\n",
    "train_generator = train_datagen.flow_from_directory(\n",
    "        train_data_dir,\n",
    "        target_size=(img_height, img_width),\n",
    "        batch_size=batch_size,\n",
    "        class_mode='categorical')"
   ]
  },
  {
   "cell_type": "code",
   "execution_count": 15,
   "metadata": {},
   "outputs": [
    {
     "name": "stdout",
     "output_type": "stream",
     "text": [
      "Found 1838 images belonging to 10 classes.\n"
     ]
    }
   ],
   "source": [
    "validation_generator = test_datagen.flow_from_directory(\n",
    "        validation_data_dir,\n",
    "        target_size=(img_height, img_width),\n",
    "        batch_size=batch_size,\n",
    "        class_mode='categorical')"
   ]
  },
  {
   "cell_type": "code",
   "execution_count": 16,
   "metadata": {},
   "outputs": [],
   "source": [
    "inputs = Input(shape=(100,100,3))\n",
    "c = Conv2D(8, kernel_size=(5, 5), activation='relu')(inputs)\n",
    "p = MaxPooling2D(pool_size=(2, 2))(c)\n",
    "r1 = Conv2D(16, kernel_size=(5, 5), activation='relu')(p)\n",
    "r2 = Conv2D(16, kernel_size=(5, 5), activation='relu')(p)\n",
    "r = Multiply()([r1,r2])\n",
    "x = MaxPooling2D(pool_size=(2, 2))(r)\n",
    "x = Conv2D(32, kernel_size=(5, 5), activation='relu')(x)\n",
    "x = MaxPooling2D(pool_size=(2, 2))(x)\n",
    "x = Flatten()(x)\n",
    "x = Dense(120, activation='relu')(x)\n",
    "x = Dense(84, activation='relu')(x)\n",
    "x = Dense(10, activation='softmax')(x)\n",
    "model = Model(inputs=inputs,outputs = x)"
   ]
  },
  {
   "cell_type": "code",
   "execution_count": 17,
   "metadata": {},
   "outputs": [],
   "source": [
    "model.compile(loss='binary_crossentropy',\n",
    "              optimizer = SGD(lr=1e-3,momentum=0.9),#SGD(lr=1e-3,momentum=0.9)\n",
    "              metrics=['accuracy'])"
   ]
  },
  {
   "cell_type": "code",
   "execution_count": 19,
   "metadata": {},
   "outputs": [
    {
     "name": "stdout",
     "output_type": "stream",
     "text": [
      "Epoch 1/50\n",
      "634/634 [==============================] - 53s 84ms/step - loss: 0.1162 - acc: 0.9528 - val_loss: 0.0582 - val_acc: 0.9805\n",
      "Epoch 2/50\n",
      "634/634 [==============================] - 53s 83ms/step - loss: 0.0814 - acc: 0.9688 - val_loss: 0.0492 - val_acc: 0.9822ss: 0.0815 -  - ETA: 0s - loss: 0.0813 - acc: 0.96\n",
      "Epoch 3/50\n",
      "634/634 [==============================] - 51s 81ms/step - loss: 0.0678 - acc: 0.9742 - val_loss: 0.0385 - val_acc: 0.9866\n",
      "Epoch 4/50\n",
      "634/634 [==============================] - 53s 84ms/step - loss: 0.0553 - acc: 0.9798 - val_loss: 0.0333 - val_acc: 0.9888\n",
      "Epoch 5/50\n",
      "634/634 [==============================] - 52s 82ms/step - loss: 0.0503 - acc: 0.9818 - val_loss: 0.0425 - val_acc: 0.9833\n",
      "Epoch 6/50\n",
      "634/634 [==============================] - 52s 81ms/step - loss: 0.0456 - acc: 0.9836 - val_loss: 0.0292 - val_acc: 0.9883\n",
      "Epoch 7/50\n",
      "634/634 [==============================] - 52s 82ms/step - loss: 0.0360 - acc: 0.9869 - val_loss: 0.0337 - val_acc: 0.9875\n",
      "Epoch 8/50\n",
      "634/634 [==============================] - 64s 101ms/step - loss: 0.0342 - acc: 0.9872 - val_loss: 0.0234 - val_acc: 0.9908\n",
      "Epoch 9/50\n",
      "634/634 [==============================] - 68s 107ms/step - loss: 0.0282 - acc: 0.9902 - val_loss: 0.0399 - val_acc: 0.9844\n",
      "Epoch 10/50\n",
      "634/634 [==============================] - 50s 79ms/step - loss: 0.0268 - acc: 0.9907 - val_loss: 0.0212 - val_acc: 0.9923\n",
      "Epoch 11/50\n",
      "634/634 [==============================] - 52s 81ms/step - loss: 0.0347 - acc: 0.9883 - val_loss: 0.0304 - val_acc: 0.9884\n",
      "Epoch 12/50\n",
      "634/634 [==============================] - 52s 81ms/step - loss: 0.0230 - acc: 0.9914 - val_loss: 0.0278 - val_acc: 0.9897\n",
      "Epoch 13/50\n",
      "634/634 [==============================] - 63s 99ms/step - loss: 0.0195 - acc: 0.9932 - val_loss: 0.0143 - val_acc: 0.9956\n",
      "Epoch 14/50\n",
      "634/634 [==============================] - 71s 111ms/step - loss: 0.0196 - acc: 0.9929 - val_loss: 0.0340 - val_acc: 0.9877\n",
      "Epoch 15/50\n",
      "634/634 [==============================] - 67s 106ms/step - loss: 0.0173 - acc: 0.9937 - val_loss: 0.0150 - val_acc: 0.9951\n",
      "Epoch 16/50\n",
      "634/634 [==============================] - 51s 80ms/step - loss: 0.0166 - acc: 0.9941 - val_loss: 0.0201 - val_acc: 0.9933\n",
      "Epoch 17/50\n",
      "634/634 [==============================] - 50s 79ms/step - loss: 0.0150 - acc: 0.9947 - val_loss: 0.0137 - val_acc: 0.9960\n",
      "Epoch 18/50\n",
      "634/634 [==============================] - 52s 82ms/step - loss: 0.0150 - acc: 0.9949 - val_loss: 0.0224 - val_acc: 0.9918\n",
      "Epoch 19/50\n",
      "634/634 [==============================] - 70s 110ms/step - loss: 0.0139 - acc: 0.9953 - val_loss: 0.0183 - val_acc: 0.9954\n",
      "Epoch 20/50\n",
      "634/634 [==============================] - 71s 113ms/step - loss: 0.0125 - acc: 0.9959 - val_loss: 0.0182 - val_acc: 0.9929\n",
      "Epoch 21/50\n",
      "634/634 [==============================] - 67s 106ms/step - loss: 0.0122 - acc: 0.9956 - val_loss: 0.0200 - val_acc: 0.9932\n",
      "Epoch 22/50\n",
      "634/634 [==============================] - 50s 79ms/step - loss: 0.0127 - acc: 0.9953 - val_loss: 0.0125 - val_acc: 0.9958\n",
      "Epoch 23/50\n",
      "634/634 [==============================] - 51s 80ms/step - loss: 0.0113 - acc: 0.9960 - val_loss: 0.0099 - val_acc: 0.9969\n",
      "Epoch 24/50\n",
      "634/634 [==============================] - 51s 80ms/step - loss: 0.0119 - acc: 0.9958 - val_loss: 0.0110 - val_acc: 0.9964\n",
      "Epoch 25/50\n",
      "634/634 [==============================] - 50s 79ms/step - loss: 0.0096 - acc: 0.9965 - val_loss: 0.0163 - val_acc: 0.9954\n",
      "Epoch 26/50\n",
      "634/634 [==============================] - 63s 100ms/step - loss: 0.0090 - acc: 0.9971 - val_loss: 0.0124 - val_acc: 0.9966\n",
      "Epoch 27/50\n",
      "634/634 [==============================] - 71s 113ms/step - loss: 0.0106 - acc: 0.9961 - val_loss: 0.0096 - val_acc: 0.9968\n",
      "Epoch 28/50\n",
      "634/634 [==============================] - 66s 104ms/step - loss: 0.0091 - acc: 0.9972 - val_loss: 0.0108 - val_acc: 0.9961\n",
      "Epoch 29/50\n",
      "634/634 [==============================] - 49s 78ms/step - loss: 0.0069 - acc: 0.9979 - val_loss: 0.0123 - val_acc: 0.9968\n",
      "Epoch 30/50\n",
      "634/634 [==============================] - 50s 78ms/step - loss: 0.0085 - acc: 0.9969 - val_loss: 0.0115 - val_acc: 0.9970\n",
      "Epoch 31/50\n",
      "634/634 [==============================] - 50s 79ms/step - loss: 0.0088 - acc: 0.9969 - val_loss: 0.0150 - val_acc: 0.9947\n",
      "Epoch 32/50\n",
      "634/634 [==============================] - 51s 80ms/step - loss: 0.0076 - acc: 0.9972 - val_loss: 0.0176 - val_acc: 0.9942\n",
      "Epoch 33/50\n",
      "634/634 [==============================] - 63s 99ms/step - loss: 0.0074 - acc: 0.9975 - val_loss: 0.0215 - val_acc: 0.9934\n",
      "Epoch 34/50\n",
      "634/634 [==============================] - 69s 109ms/step - loss: 0.0063 - acc: 0.9977 - val_loss: 0.0096 - val_acc: 0.9968\n",
      "Epoch 35/50\n",
      "634/634 [==============================] - 67s 105ms/step - loss: 0.0149 - acc: 0.9948 - val_loss: 0.0178 - val_acc: 0.9943\n",
      "Epoch 36/50\n",
      "634/634 [==============================] - 50s 78ms/step - loss: 0.0099 - acc: 0.9966 - val_loss: 0.0133 - val_acc: 0.9957\n",
      "Epoch 37/50\n",
      "634/634 [==============================] - 56s 88ms/step - loss: 0.0071 - acc: 0.9976 - val_loss: 0.0274 - val_acc: 0.9908\n",
      "Epoch 38/50\n",
      "634/634 [==============================] - 70s 110ms/step - loss: 0.0075 - acc: 0.9972 - val_loss: 0.0121 - val_acc: 0.9960\n",
      "Epoch 39/50\n",
      "634/634 [==============================] - 68s 107ms/step - loss: 0.0053 - acc: 0.9984 - val_loss: 0.0098 - val_acc: 0.9972\n",
      "Epoch 40/50\n",
      "634/634 [==============================] - 50s 78ms/step - loss: 0.0055 - acc: 0.9980 - val_loss: 0.0158 - val_acc: 0.9952\n",
      "Epoch 41/50\n",
      "634/634 [==============================] - 50s 79ms/step - loss: 0.0059 - acc: 0.9978 - val_loss: 0.0141 - val_acc: 0.9959\n",
      "Epoch 42/50\n",
      "634/634 [==============================] - 70s 111ms/step - loss: 0.0056 - acc: 0.9980 - val_loss: 0.0112 - val_acc: 0.9970\n",
      "Epoch 43/50\n",
      "634/634 [==============================] - 66s 104ms/step - loss: 0.0042 - acc: 0.9986 - val_loss: 0.0102 - val_acc: 0.9973\n",
      "Epoch 44/50\n",
      "634/634 [==============================] - 50s 79ms/step - loss: 0.0042 - acc: 0.9986 - val_loss: 0.0113 - val_acc: 0.9961\n",
      "Epoch 45/50\n",
      "634/634 [==============================] - 50s 79ms/step - loss: 0.0052 - acc: 0.9980 - val_loss: 0.0155 - val_acc: 0.9951\n",
      "Epoch 46/50\n",
      "634/634 [==============================] - 50s 78ms/step - loss: 0.0048 - acc: 0.9986 - val_loss: 0.0090 - val_acc: 0.9976\n",
      "Epoch 47/50\n",
      "634/634 [==============================] - 65s 103ms/step - loss: 0.0044 - acc: 0.9986 - val_loss: 0.0097 - val_acc: 0.9971\n",
      "Epoch 48/50\n",
      "634/634 [==============================] - 68s 108ms/step - loss: 0.0567 - acc: 0.9863 - val_loss: 0.0233 - val_acc: 0.9916\n",
      "Epoch 49/50\n",
      "634/634 [==============================] - 50s 78ms/step - loss: 0.0113 - acc: 0.9960 - val_loss: 0.0123 - val_acc: 0.9959\n",
      "Epoch 50/50\n",
      "634/634 [==============================] - 50s 79ms/step - loss: 0.0078 - acc: 0.9973 - val_loss: 0.0174 - val_acc: 0.9950\n"
     ]
    },
    {
     "data": {
      "text/plain": [
       "<keras.callbacks.History at 0x1b292435dd8>"
      ]
     },
     "execution_count": 19,
     "metadata": {},
     "output_type": "execute_result"
    }
   ],
   "source": [
    "model.fit_generator(\n",
    "        train_generator,\n",
    "        steps_per_epoch=nb_train_samples// 4 ,\n",
    "        epochs=50,\n",
    "        validation_data=validation_generator,\n",
    "        validation_steps=nb_validation_samples// 4,\n",
    "        workers = 4)"
   ]
  },
  {
   "cell_type": "code",
   "execution_count": 20,
   "metadata": {},
   "outputs": [],
   "source": [
    "inputs = Input(shape=(100,100,3))\n",
    "x = Conv2D(8, kernel_size=(5, 5), activation='relu')(inputs)\n",
    "x = MaxPooling2D(pool_size=(2, 2))(x)\n",
    "x = Conv2D(16, kernel_size=(5, 5), activation='relu')(x)\n",
    "x = MaxPooling2D(pool_size=(2, 2))(x)\n",
    "r1 = Conv2D(32, kernel_size=(5, 5), activation='relu')(x)\n",
    "r2 = Conv2D(32, kernel_size=(5, 5), activation='relu')(x)\n",
    "r = Multiply()([r1,r2])\n",
    "x = MaxPooling2D(pool_size=(2, 2))(r)\n",
    "x = Flatten()(x)\n",
    "x = Dense(120, activation='relu')(x)\n",
    "x = Dense(84, activation='relu')(x)\n",
    "x = Dense(10, activation='softmax')(x)\n",
    "model2 = Model(inputs=inputs,outputs = x)"
   ]
  },
  {
   "cell_type": "code",
   "execution_count": 21,
   "metadata": {},
   "outputs": [],
   "source": [
    "model2.compile(loss='binary_crossentropy',\n",
    "              optimizer = SGD(lr=1e-3,momentum=0.9),#SGD(lr=1e-3,momentum=0.9)\n",
    "              metrics=['accuracy'])"
   ]
  },
  {
   "cell_type": "code",
   "execution_count": 23,
   "metadata": {},
   "outputs": [
    {
     "name": "stdout",
     "output_type": "stream",
     "text": [
      "Epoch 1/50\n",
      "634/634 [==============================] - 49s 77ms/step - loss: 0.3209 - acc: 0.9000 - val_loss: 0.3140 - val_acc: 0.9000\n",
      "Epoch 2/50\n",
      "634/634 [==============================] - 48s 75ms/step - loss: 0.2446 - acc: 0.9078 - val_loss: 0.1646 - val_acc: 0.9319\n",
      "Epoch 3/50\n",
      "634/634 [==============================] - 48s 76ms/step - loss: 0.1695 - acc: 0.9305 - val_loss: 0.1536 - val_acc: 0.9401\n",
      "Epoch 4/50\n",
      "634/634 [==============================] - 49s 77ms/step - loss: 0.1255 - acc: 0.9472 - val_loss: 0.1299 - val_acc: 0.9415\n",
      "Epoch 5/50\n",
      "634/634 [==============================] - 48s 76ms/step - loss: 0.1020 - acc: 0.9591 - val_loss: 0.0600 - val_acc: 0.9786\n",
      "Epoch 6/50\n",
      "634/634 [==============================] - 49s 77ms/step - loss: 0.0831 - acc: 0.9675 - val_loss: 0.0526 - val_acc: 0.9801\n",
      "Epoch 7/50\n",
      "634/634 [==============================] - 50s 78ms/step - loss: 0.0731 - acc: 0.9722 - val_loss: 0.0491 - val_acc: 0.9815\n",
      "Epoch 8/50\n",
      "634/634 [==============================] - 51s 81ms/step - loss: 0.0596 - acc: 0.9778 - val_loss: 0.0337 - val_acc: 0.9898\n",
      "Epoch 9/50\n",
      "634/634 [==============================] - 61s 96ms/step - loss: 0.0593 - acc: 0.9780 - val_loss: 0.0278 - val_acc: 0.9905\n",
      "Epoch 10/50\n",
      "634/634 [==============================] - 72s 113ms/step - loss: 0.0515 - acc: 0.9814 - val_loss: 0.0262 - val_acc: 0.9908\n",
      "Epoch 11/50\n",
      "634/634 [==============================] - 70s 110ms/step - loss: 0.0374 - acc: 0.9865 - val_loss: 0.0263 - val_acc: 0.9904\n",
      "Epoch 12/50\n",
      "634/634 [==============================] - 69s 109ms/step - loss: 0.0321 - acc: 0.9887 - val_loss: 0.0241 - val_acc: 0.9927\n",
      "Epoch 13/50\n",
      "634/634 [==============================] - 67s 106ms/step - loss: 0.0276 - acc: 0.9904 - val_loss: 0.0136 - val_acc: 0.9960\n",
      "Epoch 14/50\n",
      "634/634 [==============================] - 49s 77ms/step - loss: 0.0268 - acc: 0.9907 - val_loss: 0.0241 - val_acc: 0.9902\n",
      "Epoch 15/50\n",
      "634/634 [==============================] - 49s 77ms/step - loss: 0.0255 - acc: 0.9911 - val_loss: 0.0196 - val_acc: 0.9932\n",
      "Epoch 16/50\n",
      "634/634 [==============================] - 49s 78ms/step - loss: 0.0220 - acc: 0.9927 - val_loss: 0.0247 - val_acc: 0.9912\n",
      "Epoch 17/50\n",
      "634/634 [==============================] - 49s 77ms/step - loss: 0.0216 - acc: 0.9929 - val_loss: 0.0189 - val_acc: 0.9933\n",
      "Epoch 18/50\n",
      "634/634 [==============================] - 50s 78ms/step - loss: 0.0239 - acc: 0.9918 - val_loss: 0.0123 - val_acc: 0.9963\n",
      "Epoch 19/50\n",
      "634/634 [==============================] - 58s 91ms/step - loss: 0.0174 - acc: 0.9943 - val_loss: 0.0183 - val_acc: 0.9933\n",
      "Epoch 20/50\n",
      "634/634 [==============================] - 72s 113ms/step - loss: 0.0146 - acc: 0.9951 - val_loss: 0.0144 - val_acc: 0.9956\n",
      "Epoch 21/50\n",
      "634/634 [==============================] - 66s 105ms/step - loss: 0.0142 - acc: 0.9951 - val_loss: 0.0164 - val_acc: 0.9954\n",
      "Epoch 22/50\n",
      "634/634 [==============================] - 49s 77ms/step - loss: 0.0230 - acc: 0.9921 - val_loss: 0.0116 - val_acc: 0.9961\n",
      "Epoch 23/50\n",
      "634/634 [==============================] - 49s 77ms/step - loss: 0.0136 - acc: 0.9956 - val_loss: 0.0111 - val_acc: 0.9970\n",
      "Epoch 24/50\n",
      "634/634 [==============================] - 50s 80ms/step - loss: 0.0115 - acc: 0.9963 - val_loss: 0.0108 - val_acc: 0.9967\n",
      "Epoch 25/50\n",
      "634/634 [==============================] - 64s 100ms/step - loss: 0.0102 - acc: 0.9971 - val_loss: 0.0204 - val_acc: 0.9943\n",
      "Epoch 26/50\n",
      "634/634 [==============================] - 66s 105ms/step - loss: 0.0153 - acc: 0.9949 - val_loss: 0.0233 - val_acc: 0.9939\n",
      "Epoch 27/50\n",
      "634/634 [==============================] - 48s 76ms/step - loss: 0.0133 - acc: 0.9950 - val_loss: 0.0099 - val_acc: 0.9975\n",
      "Epoch 28/50\n",
      "634/634 [==============================] - 49s 77ms/step - loss: 0.0097 - acc: 0.9969 - val_loss: 0.0176 - val_acc: 0.9947\n",
      "Epoch 29/50\n",
      "634/634 [==============================] - 49s 77ms/step - loss: 0.0099 - acc: 0.9968 - val_loss: 0.0171 - val_acc: 0.9958\n",
      "Epoch 30/50\n",
      "634/634 [==============================] - 51s 81ms/step - loss: 0.0103 - acc: 0.9967 - val_loss: 0.0171 - val_acc: 0.9956\n",
      "Epoch 31/50\n",
      "634/634 [==============================] - 63s 99ms/step - loss: 0.0076 - acc: 0.9977 - val_loss: 0.0230 - val_acc: 0.9928\n",
      "Epoch 32/50\n",
      "634/634 [==============================] - 72s 113ms/step - loss: 0.0065 - acc: 0.9978 - val_loss: 0.0123 - val_acc: 0.9973\n",
      "Epoch 33/50\n",
      "634/634 [==============================] - 49s 78ms/step - loss: 0.0092 - acc: 0.9969 - val_loss: 0.0194 - val_acc: 0.9938\n",
      "Epoch 34/50\n",
      "634/634 [==============================] - 48s 76ms/step - loss: 0.0072 - acc: 0.9979 - val_loss: 0.0219 - val_acc: 0.9942\n",
      "Epoch 35/50\n",
      "634/634 [==============================] - 48s 76ms/step - loss: 0.0067 - acc: 0.9979 - val_loss: 0.0129 - val_acc: 0.9958\n",
      "Epoch 36/50\n",
      "634/634 [==============================] - 48s 76ms/step - loss: 0.0073 - acc: 0.9975 - val_loss: 0.0250 - val_acc: 0.9939\n",
      "Epoch 37/50\n",
      "634/634 [==============================] - 62s 97ms/step - loss: 0.0051 - acc: 0.9984 - val_loss: 0.0078 - val_acc: 0.9979\n",
      "Epoch 38/50\n",
      "634/634 [==============================] - 59s 93ms/step - loss: 0.0068 - acc: 0.9979 - val_loss: 0.0157 - val_acc: 0.9958\n",
      "Epoch 39/50\n",
      "634/634 [==============================] - 44s 70ms/step - loss: 0.0056 - acc: 0.9982 - val_loss: 0.0092 - val_acc: 0.9976\n",
      "Epoch 40/50\n",
      "634/634 [==============================] - 44s 70ms/step - loss: 0.0051 - acc: 0.9984 - val_loss: 0.0094 - val_acc: 0.9979\n",
      "Epoch 41/50\n",
      "634/634 [==============================] - 57s 90ms/step - loss: 0.0043 - acc: 0.9987 - val_loss: 0.0154 - val_acc: 0.9962\n",
      "Epoch 42/50\n",
      "634/634 [==============================] - 62s 97ms/step - loss: 0.0040 - acc: 0.9987 - val_loss: 0.0162 - val_acc: 0.9962\n",
      "Epoch 43/50\n",
      "634/634 [==============================] - 45s 70ms/step - loss: 0.0056 - acc: 0.9984 - val_loss: 0.0080 - val_acc: 0.9974\n",
      "Epoch 44/50\n",
      "634/634 [==============================] - 44s 70ms/step - loss: 0.0045 - acc: 0.9985 - val_loss: 0.0095 - val_acc: 0.9977\n",
      "Epoch 45/50\n",
      "634/634 [==============================] - 45s 70ms/step - loss: 0.0037 - acc: 0.9990 - val_loss: 0.0095 - val_acc: 0.9977\n",
      "Epoch 46/50\n",
      "634/634 [==============================] - 44s 70ms/step - loss: 0.0043 - acc: 0.9986 - val_loss: 0.0125 - val_acc: 0.9970\n",
      "Epoch 47/50\n",
      "634/634 [==============================] - 50s 80ms/step - loss: 0.0055 - acc: 0.9984 - val_loss: 0.0085 - val_acc: 0.9982\n",
      "Epoch 48/50\n",
      "634/634 [==============================] - 59s 93ms/step - loss: 0.0045 - acc: 0.9986 - val_loss: 0.0091 - val_acc: 0.9982\n",
      "Epoch 49/50\n",
      "634/634 [==============================] - 45s 70ms/step - loss: 0.0049 - acc: 0.9986 - val_loss: 0.0081 - val_acc: 0.9979\n",
      "Epoch 50/50\n",
      "634/634 [==============================] - 44s 70ms/step - loss: 0.0031 - acc: 0.9991 - val_loss: 0.0140 - val_acc: 0.9964\n"
     ]
    },
    {
     "data": {
      "text/plain": [
       "<keras.callbacks.History at 0x1b287e3eb38>"
      ]
     },
     "execution_count": 23,
     "metadata": {},
     "output_type": "execute_result"
    }
   ],
   "source": [
    "model2.fit_generator(\n",
    "        train_generator,\n",
    "        steps_per_epoch=nb_train_samples// 4 ,\n",
    "        epochs=50,\n",
    "        validation_data=validation_generator,\n",
    "        validation_steps=nb_validation_samples// 4,\n",
    "        workers = 4)"
   ]
  },
  {
   "cell_type": "code",
   "execution_count": null,
   "metadata": {},
   "outputs": [],
   "source": []
  }
 ],
 "metadata": {
  "kernelspec": {
   "display_name": "Python 3",
   "language": "python",
   "name": "python3"
  },
  "language_info": {
   "codemirror_mode": {
    "name": "ipython",
    "version": 3
   },
   "file_extension": ".py",
   "mimetype": "text/x-python",
   "name": "python",
   "nbconvert_exporter": "python",
   "pygments_lexer": "ipython3",
   "version": "3.6.2"
  }
 },
 "nbformat": 4,
 "nbformat_minor": 2
}
